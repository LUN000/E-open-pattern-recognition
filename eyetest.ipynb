{
 "cells": [
  {
   "cell_type": "code",
   "execution_count": 3,
   "metadata": {},
   "outputs": [
    {
     "name": "stdout",
     "output_type": "stream",
     "text": [
      "開口朝上 / 開口朝左 / 開口朝上 / 開口朝右 / 開口朝下 / 開口朝下 / 開口朝下 / 開口朝左 / 開口朝上 / 開口朝右 / 開口朝上 / 開口朝右 / 開口朝左 / 開口朝上 / 開口朝左 / 開口朝右 / 開口朝左 / 開口朝下 / 開口朝右 / 開口朝下 / 開口朝右 / 開口朝左 / 開口朝右 / 開口朝下 / 開口朝上 / 開口朝下 / 開口朝上 / 開口朝右 / 開口朝左 / 開口朝上 / 開口朝右 / 開口朝下 / 開口朝右 / 開口朝下 / 開口朝上 / 開口朝右 / 開口朝左 / 開口朝左 / 開口朝左 / 開口朝上 / 開口朝右 / 開口朝下 / 開口朝上 / 開口朝左 / 開口朝左 / 開口朝上 / 開口朝上 / 開口朝右 / 開口朝下 / 開口朝左 / "
     ]
    }
   ],
   "source": [
    "import cv2\n",
    "import glob\n",
    "import numpy as np\n",
    "import pickle\n",
    "\n",
    "def bounding(img):\n",
    "    h,w,_ = img.shape\n",
    "    y0 = 0\n",
    "    found = False\n",
    "    for y in range(0, h):\n",
    "        for x in range(0, w):\n",
    "            if (img[y,x,0] > 230):\n",
    "                y0 = y\n",
    "                found = True\n",
    "                break\n",
    "        if (found == True):\n",
    "            break\n",
    "    y1 = h - 1\n",
    "    found = False\n",
    "    for y in range(h-1, 0, -1):\n",
    "        for x in range(0, w):\n",
    "            if (img[y,x,0] > 230):\n",
    "                y1 = y\n",
    "                found = True\n",
    "                break\n",
    "        if (found == True):\n",
    "            break\n",
    "    # print(y0, y1)  \n",
    "    x0 = 0\n",
    "    found = False\n",
    "    for x in range(0, w):\n",
    "        for y in range(0, h):\n",
    "            if (img[y,x,0] > 230):\n",
    "                x0 = x\n",
    "                found = True\n",
    "                break\n",
    "        if (found == True):\n",
    "            break\n",
    "    x1 = w - 1\n",
    "    found = False\n",
    "    for x in range(w-1, 0, -1):\n",
    "        for y in range(0, h):\n",
    "            if (img[y,x,0] > 230):\n",
    "                x1 = x\n",
    "                found = True\n",
    "                break\n",
    "        if (found == True):\n",
    "            break\n",
    "    return x0, x1, y0, y1\n",
    "#圖檔邊界化轉為 100*100 存入 pickle\n",
    "ibank = np.zeros([50,100,100,3], dtype=np.uint8)\n",
    "files = glob.glob('E/*')\n",
    "\n",
    "i = 0\n",
    "for f in files:\n",
    "    x = cv2.imread(f)\n",
    "    y = 255 - x\n",
    "    x0, x1, y0, y1 = bounding(y)\n",
    "    yy = y[y0:y1+1,x0:x1+1,:]\n",
    "    z = cv2.resize(yy, (100,100))\n",
    "    ibank[i,:,:,:] = z\n",
    "    i = i + 1\n",
    "with open('Ebank.pkl', 'wb') as fp:\n",
    "    pickle.dump(ibank, fp)\n",
    "fp.close()\n",
    "\n",
    "\n",
    "#從 pickle 讀入判別開口\n",
    "with open('Ebank.pkl', 'rb') as fp:\n",
    "    ibank = pickle.load(fp)\n",
    "fp.close()\n",
    "\n",
    "cv2.namedWindow('E')\n",
    "\n",
    "for i in range(50):\n",
    "    z = ibank[i,:,:,:]\n",
    "    direction = {\n",
    "        '開口朝上' : np.mean(z[1:20,:]),\n",
    "        '開口朝下' : np.mean(z[80:100,:]),\n",
    "        '開口朝左' : np.mean(z[:,1:20]),\n",
    "        '開口朝右' : np.mean(z[:,80:100]),\n",
    "    }\n",
    "    print(min(direction,key=direction.get),end=\" / \")\n",
    "    cv2.imshow('E',z)\n",
    "    cv2.waitKey(500)\n",
    "    \n",
    "cv2.destroyAllWindows()"
   ]
  },
  {
   "cell_type": "code",
   "execution_count": null,
   "metadata": {},
   "outputs": [],
   "source": [
    "\n"
   ]
  }
 ],
 "metadata": {
  "kernelspec": {
   "display_name": "Python 3",
   "language": "python",
   "name": "python3"
  },
  "language_info": {
   "codemirror_mode": {
    "name": "ipython",
    "version": 3
   },
   "file_extension": ".py",
   "mimetype": "text/x-python",
   "name": "python",
   "nbconvert_exporter": "python",
   "pygments_lexer": "ipython3",
   "version": "3.8.5"
  }
 },
 "nbformat": 4,
 "nbformat_minor": 4
}
